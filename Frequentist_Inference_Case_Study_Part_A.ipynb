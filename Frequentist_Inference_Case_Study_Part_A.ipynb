{
  "cells": [
    {
      "cell_type": "markdown",
      "metadata": {
        "id": "2329SKRuIDgI"
      },
      "source": [
        "# Frequentist Inference Case Study - Part A"
      ]
    },
    {
      "cell_type": "markdown",
      "metadata": {
        "id": "zUb5rj77IDgJ"
      },
      "source": [
        "## 1. Learning objectives"
      ]
    },
    {
      "cell_type": "markdown",
      "metadata": {
        "id": "r5-bgXgpIDgJ"
      },
      "source": [
        "Welcome to part A of the Frequentist inference case study! The purpose of this case study is to help you apply the concepts associated with Frequentist inference in Python. Frequentist inference is the process of deriving conclusions about an underlying distribution via the observation of data. In particular, you'll practice writing Python code to apply the following statistical concepts:\n",
        "* the _z_-statistic\n",
        "* the _t_-statistic\n",
        "* the difference and relationship between the two\n",
        "* the Central Limit Theorem, including its assumptions and consequences\n",
        "* how to estimate the population mean and standard deviation from a sample\n",
        "* the concept of a sampling distribution of a test statistic, particularly for the mean\n",
        "* how to combine these concepts to calculate a confidence interval"
      ]
    },
    {
      "cell_type": "markdown",
      "metadata": {
        "id": "S-GW8OUiIDgK"
      },
      "source": [
        "## Prerequisites"
      ]
    },
    {
      "cell_type": "markdown",
      "metadata": {
        "id": "YIokYx-JIDgK"
      },
      "source": [
        "To be able to complete this notebook, you are expected to have a basic understanding of:\n",
        "* what a random variable is (p.400 of Professor Spiegelhalter's *The Art of Statistics, hereinafter AoS*)\n",
        "* what a population, and a population distribution, are (p. 397 of *AoS*)\n",
        "* a high-level sense of what the normal distribution is (p. 394 of *AoS*)\n",
        "* what the t-statistic is (p. 275 of *AoS*)\n",
        "\n",
        "Happily, these should all be concepts with which you are reasonably familiar after having read ten chapters of Professor Spiegelhalter's book, *The Art of Statistics*.\n",
        "\n",
        "We'll try to relate the concepts in this case study back to page numbers in *The Art of Statistics* so that you can focus on the Python aspects of this case study. The second part (part B) of this case study will involve another, more real-world application of these tools."
      ]
    },
    {
      "cell_type": "markdown",
      "metadata": {
        "id": "IFlddk8JIDgK"
      },
      "source": [
        "For this notebook, we will use data sampled from a known normal distribution. This allows us to compare our results with theoretical expectations."
      ]
    },
    {
      "cell_type": "markdown",
      "metadata": {
        "id": "j6I51H26IDgK"
      },
      "source": [
        "## 2. An introduction to sampling from the normal distribution"
      ]
    },
    {
      "cell_type": "markdown",
      "metadata": {
        "id": "AGrw6OMgIDgK"
      },
      "source": [
        "First, let's explore the ways we can generate the normal distribution. While there's a fair amount of interest in [sklearn](https://scikit-learn.org/stable/) within the machine learning community, you're likely to have heard of [scipy](https://docs.scipy.org/doc/scipy-0.15.1/reference/index.html) if you're coming from the sciences. For this assignment, you'll use [scipy.stats](https://docs.scipy.org/doc/scipy-0.15.1/reference/tutorial/stats.html) to complete your work.\n",
        "\n",
        "This assignment will require some digging around and getting your hands dirty (your learning is maximized that way)! You should have the research skills and the tenacity to do these tasks independently, but if you struggle, reach out to your immediate community and your mentor for help."
      ]
    },
    {
      "cell_type": "code",
      "execution_count": 1,
      "metadata": {
        "id": "a_ET_v3hIDgK"
      },
      "outputs": [],
      "source": [
        "from scipy.stats import norm\n",
        "from scipy.stats import t\n",
        "import numpy as np\n",
        "import pandas as pd\n",
        "from numpy.random import seed\n",
        "import matplotlib.pyplot as plt"
      ]
    },
    {
      "cell_type": "markdown",
      "metadata": {
        "id": "W8acLvF8IDgL"
      },
      "source": [
        "__Q1:__ Call up the documentation for the `norm` function imported above. (Hint: that documentation is [here](https://docs.scipy.org/doc/scipy/reference/generated/scipy.stats.norm.html)). What is the second listed method?"
      ]
    },
    {
      "cell_type": "code",
      "execution_count": 2,
      "metadata": {
        "colab": {
          "base_uri": "https://localhost:8080/",
          "height": 430
        },
        "id": "t_a1BBpxIDgL",
        "outputId": "0c7353c5-cbc6-43a3-9b01-f91b3282410b"
      },
      "outputs": [
        {
          "output_type": "display_data",
          "data": {
            "text/plain": [
              "<Figure size 640x480 with 1 Axes>"
            ],
            "image/png": "[encoded data removed]"
          },
          "metadata": {}
        }
      ],
      "source": [
        "#hel(norm)\n",
        "x = np.linspace(norm.ppf(0.01),\n",
        "                norm.ppf(0.99), 100)\n",
        "plt.plot(x, norm.pdf(x),\n",
        "         'r-', lw=5, alpha=0.6, label='norm pdf')\n",
        "plt.show()"
      ]
    },
    {
      "cell_type": "markdown",
      "metadata": {
        "id": "S9ypXSHbIDgL"
      },
      "source": [
        "A: The second method is the scipy.stats.norm documentation is pdf(x), which represents the probability Density Function"
      ]
    },
    {
      "cell_type": "markdown",
      "metadata": {
        "id": "R6vAZjJfIDgL"
      },
      "source": [
        "__Q2:__ Use the method that generates random variates to draw five samples from the standard normal distribution."
      ]
    },
    {
      "cell_type": "markdown",
      "metadata": {
        "id": "LSKDrHN5IDgL"
      },
      "source": [
        "A:The method that generates random variates is the norm method."
      ]
    },
    {
      "cell_type": "code",
      "execution_count": 4,
      "metadata": {
        "colab": {
          "base_uri": "https://localhost:8080/"
        },
        "id": "2bO2qLWlIDgL",
        "outputId": "98b79b14-1019-41af-bfc0-1876ba0e3bf6"
      },
      "outputs": [
        {
          "output_type": "stream",
          "name": "stdout",
          "text": [
            "[-0.84800948  1.30590636  0.92420797  0.6404118  -1.05473698]\n"
          ]
        }
      ],
      "source": [
        "from scipy.stats import norm\n",
        "seed(47)\n",
        "# draw five samples here\n",
        "x = norm.rvs(size=5)\n",
        "\n",
        "print(x)"
      ]
    },
    {
      "cell_type": "markdown",
      "metadata": {
        "id": "WnCC9f5pIDgL"
      },
      "source": [
        "__Q3:__ What is the mean of this sample? Is it exactly equal to the value you expected? Hint: the sample was drawn from the standard normal distribution. If you want a reminder of the properties of this distribution, check out p. 85 of *AoS*."
      ]
    },
    {
      "cell_type": "markdown",
      "metadata": {
        "id": "3pI-C5xsIDgL"
      },
      "source": [
        "A: the answer is np.mean(samples)"
      ]
    },
    {
      "cell_type": "code",
      "execution_count": 5,
      "metadata": {
        "colab": {
          "base_uri": "https://localhost:8080/"
        },
        "id": "N6ja1GwNIDgM",
        "outputId": "7de6bc4d-8660-477b-97dd-75527ad043d5"
      },
      "outputs": [
        {
          "output_type": "stream",
          "name": "stdout",
          "text": [
            "0.19355593334131074\n"
          ]
        }
      ],
      "source": [
        "# Calculate and print the mean here, hint: use np.mean()\n",
        "print(np.mean(x))"
      ]
    },
    {
      "cell_type": "markdown",
      "metadata": {
        "id": "HLP5bndcIDgM"
      },
      "source": [
        "__Q4:__ What is the standard deviation of these numbers? Calculate this manually here as $\\sqrt{\\frac{\\sum_i(x_i - \\bar{x})^2}{n}}$ (This is just the definition of **standard deviation** given by Professor Spiegelhalter on p.403 of *AoS*). Hint: np.sqrt() and np.sum() will be useful here and remember that numPy supports [broadcasting](https://docs.scipy.org/doc/numpy/user/basics.broadcasting.html)."
      ]
    },
    {
      "cell_type": "markdown",
      "metadata": {
        "id": "wX587M4ZIDgM"
      },
      "source": [
        "A: The standard deviation of the sample is 0.9606195639478641"
      ]
    },
    {
      "cell_type": "code",
      "execution_count": 6,
      "metadata": {
        "colab": {
          "base_uri": "https://localhost:8080/"
        },
        "id": "sPeynPkCIDgM",
        "outputId": "4b56d94b-0fba-4c59-a3c3-5d450732f38f"
      },
      "outputs": [
        {
          "output_type": "stream",
          "name": "stdout",
          "text": [
            "Standard Deviation of sample is  0.9606195639478641\n"
          ]
        }
      ],
      "source": [
        "std = np.sqrt(np.sum((np.mean(x) - x)**2)/len(x))\n",
        "\n",
        "print(\"Standard Deviation of sample is \",std)"
      ]
    },
    {
      "cell_type": "markdown",
      "metadata": {
        "id": "bNpWiJAHIDgM"
      },
      "source": [
        "Here we have calculated the actual standard deviation of a small data set (of size 5). But in this case, this small data set is actually a sample from our larger (infinite) population. In this case, the population is infinite because we could keep drawing our normal random variates until our computers die!\n",
        "\n",
        "In general, the sample mean we calculate will not be equal to the population mean (as we saw above). A consequence of this is that the sum of squares of the deviations from the _population_ mean will be bigger than the sum of squares of the deviations from the _sample_ mean. In other words, the sum of squares of the deviations from the _sample_ mean is too small to give an unbiased estimate of the _population_ variance. An example of this effect is given [here](https://en.wikipedia.org/wiki/Bessel%27s_correction#Source_of_bias). Scaling our estimate of the variance by the factor $n/(n-1)$ gives an unbiased estimator of the population variance. This factor is known as [Bessel's correction](https://en.wikipedia.org/wiki/Bessel%27s_correction). The consequence of this is that the $n$ in the denominator is replaced by $n-1$.\n",
        "\n",
        "You can see Bessel's correction reflected in Professor Spiegelhalter's definition of **variance** on p. 405 of *AoS*.\n",
        "\n",
        "__Q5:__ If all we had to go on was our five samples, what would be our best estimate of the population standard deviation? Use Bessel's correction ($n-1$ in the denominator), thus $\\sqrt{\\frac{\\sum_i(x_i - \\bar{x})^2}{n-1}}$."
      ]
    },
    {
      "cell_type": "markdown",
      "metadata": {
        "id": "QjbK67dqIDgM"
      },
      "source": [
        "A: We would have a 1.0740053227618152 standard deviation\n"
      ]
    },
    {
      "cell_type": "code",
      "execution_count": 7,
      "metadata": {
        "colab": {
          "base_uri": "https://localhost:8080/"
        },
        "id": "-JLFvwXnIDgM",
        "outputId": "74eff4ce-0c0b-4c03-86b6-f39f7378fb54"
      },
      "outputs": [
        {
          "output_type": "execute_result",
          "data": {
            "text/plain": [
              "np.float64(1.0740053227518152)"
            ]
          },
          "metadata": {},
          "execution_count": 7
        }
      ],
      "source": [
        "np.sqrt(np.sum((np.mean(x) - x)**2)/(len(x)-1))"
      ]
    },
    {
      "cell_type": "markdown",
      "metadata": {
        "id": "Uzvmzp_pIDgM"
      },
      "source": [
        "__Q6:__ Now use numpy's std function to calculate the standard deviation of our random samples. Which of the above standard deviations did it return?"
      ]
    },
    {
      "cell_type": "markdown",
      "metadata": {
        "id": "vTjlhCvSIDgM"
      },
      "source": [
        "A: We got a 0.9606195639478641 standar deviation for our random samples"
      ]
    },
    {
      "cell_type": "code",
      "execution_count": 8,
      "metadata": {
        "colab": {
          "base_uri": "https://localhost:8080/"
        },
        "id": "nkK31HlcIDgN",
        "outputId": "8f659fc4-a791-4627-9c2e-2ab001da704c"
      },
      "outputs": [
        {
          "output_type": "execute_result",
          "data": {
            "text/plain": [
              "np.float64(0.9606195639478641)"
            ]
          },
          "metadata": {},
          "execution_count": 8
        }
      ],
      "source": [
        "np.std(x)"
      ]
    },
    {
      "cell_type": "markdown",
      "metadata": {
        "id": "fhM7iZm3IDgN"
      },
      "source": [
        "__Q7:__ Consult the documentation for np.std() to see how to apply the correction for estimating the population parameter and verify this produces the expected result."
      ]
    },
    {
      "cell_type": "markdown",
      "metadata": {
        "id": "_dzzEyLcIDgN"
      },
      "source": [
        "A:Our expected result is 1.0740053227518152"
      ]
    },
    {
      "cell_type": "code",
      "execution_count": 9,
      "metadata": {
        "colab": {
          "base_uri": "https://localhost:8080/"
        },
        "id": "LhN2j1yKIDgN",
        "outputId": "3f58a4a7-9864-4da2-d7e5-2de167df840e"
      },
      "outputs": [
        {
          "output_type": "stream",
          "name": "stdout",
          "text": [
            "Help on _ArrayFunctionDispatcher in module numpy:\n",
            "\n",
            "std(a, axis=None, dtype=None, out=None, ddof=0, keepdims=<no value>, *, where=<no value>, mean=<no value>, correction=<no value>)\n",
            "    Compute the standard deviation along the specified axis.\n",
            "\n",
            "    Returns the standard deviation, a measure of the spread of a distribution,\n",
            "    of the array elements. The standard deviation is computed for the\n",
            "    flattened array by default, otherwise over the specified axis.\n",
            "\n",
            "    Parameters\n",
            "    ----------\n",
            "    a : array_like\n",
            "        Calculate the standard deviation of these values.\n",
            "    axis : None or int or tuple of ints, optional\n",
            "        Axis or axes along which the standard deviation is computed. The\n",
            "        default is to compute the standard deviation of the flattened array.\n",
            "\n",
            "        .. versionadded:: 1.7.0\n",
            "\n",
            "        If this is a tuple of ints, a standard deviation is performed over\n",
            "        multiple axes, instead of a single axis or all the axes as before.\n",
            "    dtype : dtype, optional\n",
            "        Type to use in computing the standard deviation. For arrays of\n",
            "        integer type the default is float64, for arrays of float types it is\n",
            "        the same as the array type.\n",
            "    out : ndarray, optional\n",
            "        Alternative output array in which to place the result. It must have\n",
            "        the same shape as the expected output but the type (of the calculated\n",
            "        values) will be cast if necessary.\n",
            "        See :ref:`ufuncs-output-type` for more details.\n",
            "    ddof : {int, float}, optional\n",
            "        Means Delta Degrees of Freedom.  The divisor used in calculations\n",
            "        is ``N - ddof``, where ``N`` represents the number of elements.\n",
            "        By default `ddof` is zero. See Notes for details about use of `ddof`.\n",
            "    keepdims : bool, optional\n",
            "        If this is set to True, the axes which are reduced are left\n",
            "        in the result as dimensions with size one. With this option,\n",
            "        the result will broadcast correctly against the input array.\n",
            "\n",
            "        If the default value is passed, then `keepdims` will not be\n",
            "        passed through to the `std` method of sub-classes of\n",
            "        `ndarray`, however any non-default value will be.  If the\n",
            "        sub-class' method does not implement `keepdims` any\n",
            "        exceptions will be raised.\n",
            "    where : array_like of bool, optional\n",
            "        Elements to include in the standard deviation.\n",
            "        See `~numpy.ufunc.reduce` for details.\n",
            "\n",
            "        .. versionadded:: 1.20.0\n",
            "\n",
            "    mean : array_like, optional\n",
            "        Provide the mean to prevent its recalculation. The mean should have\n",
            "        a shape as if it was calculated with ``keepdims=True``.\n",
            "        The axis for the calculation of the mean should be the same as used in\n",
            "        the call to this std function.\n",
            "\n",
            "        .. versionadded:: 1.26.0\n",
            "\n",
            "    correction : {int, float}, optional\n",
            "        Array API compatible name for the ``ddof`` parameter. Only one of them\n",
            "        can be provided at the same time.\n",
            "\n",
            "        .. versionadded:: 2.0.0\n",
            "\n",
            "    Returns\n",
            "    -------\n",
            "    standard_deviation : ndarray, see dtype parameter above.\n",
            "        If `out` is None, return a new array containing the standard deviation,\n",
            "        otherwise return a reference to the output array.\n",
            "\n",
            "    See Also\n",
            "    --------\n",
            "    var, mean, nanmean, nanstd, nanvar\n",
            "    :ref:`ufuncs-output-type`\n",
            "\n",
            "    Notes\n",
            "    -----\n",
            "    There are several common variants of the array standard deviation\n",
            "    calculation. Assuming the input `a` is a one-dimensional NumPy array\n",
            "    and ``mean`` is either provided as an argument or computed as\n",
            "    ``a.mean()``, NumPy computes the standard deviation of an array as::\n",
            "\n",
            "        N = len(a)\n",
            "        d2 = abs(a - mean)**2  # abs is for complex `a`\n",
            "        var = d2.sum() / (N - ddof)  # note use of `ddof`\n",
            "        std = var**0.5\n",
            "\n",
            "    Different values of the argument `ddof` are useful in different\n",
            "    contexts. NumPy's default ``ddof=0`` corresponds with the expression:\n",
            "\n",
            "    .. math::\n",
            "\n",
            "        \\sqrt{\\frac{\\sum_i{|a_i - \\bar{a}|^2 }}{N}}\n",
            "\n",
            "    which is sometimes called the \"population standard deviation\" in the field\n",
            "    of statistics because it applies the definition of standard deviation to\n",
            "    `a` as if `a` were a complete population of possible observations.\n",
            "\n",
            "    Many other libraries define the standard deviation of an array\n",
            "    differently, e.g.:\n",
            "\n",
            "    .. math::\n",
            "\n",
            "        \\sqrt{\\frac{\\sum_i{|a_i - \\bar{a}|^2 }}{N - 1}}\n",
            "\n",
            "    In statistics, the resulting quantity is sometimed called the \"sample\n",
            "    standard deviation\" because if `a` is a random sample from a larger\n",
            "    population, this calculation provides the square root of an unbiased\n",
            "    estimate of the variance of the population. The use of :math:`N-1` in the\n",
            "    denominator is often called \"Bessel's correction\" because it corrects for\n",
            "    bias (toward lower values) in the variance estimate introduced when the\n",
            "    sample mean of `a` is used in place of the true mean of the population.\n",
            "    The resulting estimate of the standard deviation is still biased, but less\n",
            "    than it would have been without the correction. For this quantity, use\n",
            "    ``ddof=1``.\n",
            "\n",
            "    Note that, for complex numbers, `std` takes the absolute\n",
            "    value before squaring, so that the result is always real and nonnegative.\n",
            "\n",
            "    For floating-point input, the standard deviation is computed using the same\n",
            "    precision the input has. Depending on the input data, this can cause\n",
            "    the results to be inaccurate, especially for float32 (see example below).\n",
            "    Specifying a higher-accuracy accumulator using the `dtype` keyword can\n",
            "    alleviate this issue.\n",
            "\n",
            "    Examples\n",
            "    --------\n",
            "    >>> a = np.array([[1, 2], [3, 4]])\n",
            "    >>> np.std(a)\n",
            "    1.1180339887498949 # may vary\n",
            "    >>> np.std(a, axis=0)\n",
            "    array([1.,  1.])\n",
            "    >>> np.std(a, axis=1)\n",
            "    array([0.5,  0.5])\n",
            "\n",
            "    In single precision, std() can be inaccurate:\n",
            "\n",
            "    >>> a = np.zeros((2, 512*512), dtype=np.float32)\n",
            "    >>> a[0, :] = 1.0\n",
            "    >>> a[1, :] = 0.1\n",
            "    >>> np.std(a)\n",
            "    0.45000005\n",
            "\n",
            "    Computing the standard deviation in float64 is more accurate:\n",
            "\n",
            "    >>> np.std(a, dtype=np.float64)\n",
            "    0.44999999925494177 # may vary\n",
            "\n",
            "    Specifying a where argument:\n",
            "\n",
            "    >>> a = np.array([[14, 8, 11, 10], [7, 9, 10, 11], [10, 15, 5, 10]])\n",
            "    >>> np.std(a)\n",
            "    2.614064523559687 # may vary\n",
            "    >>> np.std(a, where=[[True], [True], [False]])\n",
            "    2.0\n",
            "\n",
            "    Using the mean keyword to save computation time:\n",
            "\n",
            "    >>> import numpy as np\n",
            "    >>> from timeit import timeit\n",
            "    >>> a = np.array([[14, 8, 11, 10], [7, 9, 10, 11], [10, 15, 5, 10]])\n",
            "    >>> mean = np.mean(a, axis=1, keepdims=True)\n",
            "    >>>\n",
            "    >>> g = globals()\n",
            "    >>> n = 10000\n",
            "    >>> t1 = timeit(\"std = np.std(a, axis=1, mean=mean)\", globals=g, number=n)\n",
            "    >>> t2 = timeit(\"std = np.std(a, axis=1)\", globals=g, number=n)\n",
            "    >>> print(f'Percentage execution time saved {100*(t2-t1)/t2:.0f}%')\n",
            "    #doctest: +SKIP\n",
            "    Percentage execution time saved 30%\n",
            "\n"
          ]
        }
      ],
      "source": [
        "help(np.std)"
      ]
    },
    {
      "cell_type": "code",
      "execution_count": 14,
      "metadata": {
        "colab": {
          "base_uri": "https://localhost:8080/"
        },
        "id": "fqAQ7ZfMIDgN",
        "outputId": "dcaedc5c-015c-486d-e855-8f94032cbfcc"
      },
      "outputs": [
        {
          "output_type": "execute_result",
          "data": {
            "text/plain": [
              "np.float64(1.0740053227518152)"
            ]
          },
          "metadata": {},
          "execution_count": 14
        }
      ],
      "source": [
        "np.std(x, ddof=1)"
      ]
    },
    {
      "cell_type": "markdown",
      "metadata": {
        "id": "Pvw2OrbQIDgN"
      },
      "source": [
        "### Summary of section"
      ]
    },
    {
      "cell_type": "markdown",
      "metadata": {
        "id": "Gors42XUIDgN"
      },
      "source": [
        "In this section, you've been introduced to the scipy.stats package and used it to draw a small sample from the standard normal distribution. You've calculated the average (the mean) of this sample and seen that this is not exactly equal to the expected population parameter (which we know because we're generating the random variates from a specific, known distribution). You've been introduced to two ways of calculating the standard deviation; one uses $n$ in the denominator and the other uses $n-1$ (Bessel's correction). You've also seen which of these calculations np.std() performs by default and how to get it to generate the other."
      ]
    },
    {
      "cell_type": "markdown",
      "metadata": {
        "id": "w3Nw91qxIDgN"
      },
      "source": [
        "You use $n$ as the denominator if you want to calculate the standard deviation of a sequence of numbers. You use $n-1$ if you are using this sequence of numbers to estimate the population parameter. This brings us to some terminology that can be a little confusing.\n",
        "\n",
        "The population parameter is traditionally written as $\\sigma$ and the sample statistic as $s$. Rather unhelpfully, $s$ is also called the sample standard deviation (using $n-1$) whereas the standard deviation of the sample uses $n$. That's right, we have the sample standard deviation and the standard deviation of the sample and they're not the same thing!\n",
        "\n",
        "The sample standard deviation\n",
        "\\begin{equation}\n",
        "s = \\sqrt{\\frac{\\sum_i(x_i - \\bar{x})^2}{n-1}} \\approx \\sigma,\n",
        "\\end{equation}\n",
        "is our best (unbiased) estimate of the population parameter ($\\sigma$).\n",
        "\n",
        "If your dataset _is_ your entire population, you simply want to calculate the population parameter, $\\sigma$, via\n",
        "\\begin{equation}\n",
        "\\sigma = \\sqrt{\\frac{\\sum_i(x_i - \\bar{x})^2}{n}}\n",
        "\\end{equation}\n",
        "as you have complete, full knowledge of your population. In other words, your sample _is_ your population. It's worth noting that we're dealing with what Professor Spiegehalter describes on p. 92 of *AoS* as a **metaphorical population**: we have all the data, and we act as if the data-point is taken from a population at random. We can think of this population as an imaginary space of possibilities.\n",
        "\n",
        "If, however, you have sampled _from_ your population, you only have partial knowledge of the state of your population. In this case, the standard deviation of your sample is not an unbiased estimate of the standard deviation of the population, in which case you seek to estimate that population parameter via the sample standard deviation, which uses the $n-1$ denominator."
      ]
    },
    {
      "cell_type": "markdown",
      "metadata": {
        "id": "mot1ehcSIDgN"
      },
      "source": [
        "Great work so far! Now let's dive deeper."
      ]
    },
    {
      "cell_type": "markdown",
      "metadata": {
        "id": "9mjRdhoVIDgN"
      },
      "source": [
        "## 3. Sampling distributions"
      ]
    },
    {
      "cell_type": "markdown",
      "metadata": {
        "id": "co6ogxN0IDgN"
      },
      "source": [
        "So far we've been dealing with the concept of taking a sample from a population to infer the population parameters. One statistic we calculated for a sample was the mean. As our samples will be expected to vary from one draw to another, so will our sample statistics. If we were to perform repeat draws of size $n$ and calculate the mean of each, we would expect to obtain a distribution of values. This is the sampling distribution of the mean. **The Central Limit Theorem (CLT)** tells us that such a distribution will approach a normal distribution as $n$ increases (the intuitions behind the CLT are covered in full on p. 236 of *AoS*). For the sampling distribution of the mean, the standard deviation of this distribution is given by\n",
        "\n",
        "\\begin{equation}\n",
        "\\sigma_{mean} = \\frac{\\sigma}{\\sqrt n}\n",
        "\\end{equation}\n",
        "\n",
        "where $\\sigma_{mean}$ is the standard deviation of the sampling distribution of the mean and $\\sigma$ is the standard deviation of the population (the population parameter)."
      ]
    },
    {
      "cell_type": "markdown",
      "metadata": {
        "id": "nqqzYmXGIDgN"
      },
      "source": [
        "This is important because typically we are dealing with samples from populations and all we know about the population is what we see in the sample. From this sample, we want to make inferences about the population. We may do this, for example, by looking at the histogram of the values and by calculating the mean and standard deviation (as estimates of the population parameters), and so we are intrinsically interested in how these quantities vary across samples.\n",
        "\n",
        "In other words, now that we've taken one sample of size $n$ and made some claims about the general population, what if we were to take another sample of size $n$? Would we get the same result? Would we make the same claims about the general population? This brings us to a fundamental question: _when we make some inference about a population based on our sample, how confident can we be that we've got it 'right'?_\n",
        "\n",
        "We need to think about **estimates and confidence intervals**: those concepts covered in Chapter 7, p. 189, of *AoS*."
      ]
    },
    {
      "cell_type": "markdown",
      "metadata": {
        "id": "zO1o2AKLIDgN"
      },
      "source": [
        "Now, the standard normal distribution (with its variance equal to its standard deviation of one) would not be a great illustration of a key point. Instead, let's imagine we live in a town of 50,000 people and we know the height of everyone in this town. We will have 50,000 numbers that tell us everything about our population. We'll simulate these numbers now and put ourselves in one particular town, called 'town 47', where the population mean height is 172 cm and population standard deviation is 5 cm."
      ]
    },
    {
      "cell_type": "code",
      "execution_count": 15,
      "metadata": {
        "id": "ck-cmI7lIDgO"
      },
      "outputs": [],
      "source": [
        "seed(47)\n",
        "pop_heights = norm.rvs(172, 5, size=50000)"
      ]
    },
    {
      "cell_type": "code",
      "execution_count": 16,
      "metadata": {
        "colab": {
          "base_uri": "https://localhost:8080/",
          "height": 472
        },
        "id": "mfSVhQfWIDgO",
        "outputId": "ec907120-add9-4801-c093-257fb41be205"
      },
      "outputs": [
        {
          "output_type": "display_data",
          "data": {
            "text/plain": [
              "<Figure size 640x480 with 1 Axes>"
            ],
            "image/png": "[encoded data removed]"
          },
          "metadata": {}
        }
      ],
      "source": [
        "_ = plt.hist(pop_heights, bins=30)\n",
        "_ = plt.xlabel('height (cm)')\n",
        "_ = plt.ylabel('number of people')\n",
        "_ = plt.title('Distribution of heights in entire town population')\n",
        "_ = plt.axvline(172, color='r')\n",
        "_ = plt.axvline(172+5, color='r', linestyle='--')\n",
        "_ = plt.axvline(172-5, color='r', linestyle='--')\n",
        "_ = plt.axvline(172+10, color='r', linestyle='-.')\n",
        "_ = plt.axvline(172-10, color='r', linestyle='-.')"
      ]
    },
    {
      "cell_type": "markdown",
      "source": [],
      "metadata": {
        "id": "yrNRBBl5LatK"
      }
    },
    {
      "cell_type": "markdown",
      "metadata": {
        "id": "8dMbkZlGIDgO"
      },
      "source": [
        "Now, 50,000 people is rather a lot to chase after with a tape measure. If all you want to know is the average height of the townsfolk, then can you just go out and measure a sample to get a pretty good estimate of the average height?"
      ]
    },
    {
      "cell_type": "code",
      "execution_count": 17,
      "metadata": {
        "id": "LneZHpLdIDgO"
      },
      "outputs": [],
      "source": [
        "def townsfolk_sampler(n):\n",
        "    return np.random.choice(pop_heights, n)"
      ]
    },
    {
      "cell_type": "markdown",
      "metadata": {
        "id": "CLEcliPkIDgO"
      },
      "source": [
        "Let's say you go out one day and randomly sample 10 people to measure."
      ]
    },
    {
      "cell_type": "code",
      "execution_count": 18,
      "metadata": {
        "id": "uAKEi15lIDgO"
      },
      "outputs": [],
      "source": [
        "seed(47)\n",
        "daily_sample1 = townsfolk_sampler(10)"
      ]
    },
    {
      "cell_type": "code",
      "execution_count": 19,
      "metadata": {
        "colab": {
          "base_uri": "https://localhost:8080/",
          "height": 472
        },
        "id": "KbionDgpIDgO",
        "outputId": "aeecd7f5-dd1a-4d3f-f7b8-efd0cfa94c64"
      },
      "outputs": [
        {
          "output_type": "display_data",
          "data": {
            "text/plain": [
              "<Figure size 640x480 with 1 Axes>"
            ],
            "image/png": "[encoded data removed]"
          },
          "metadata": {}
        }
      ],
      "source": [
        "_ = plt.hist(daily_sample1, bins=10)\n",
        "_ = plt.xlabel('height (cm)')\n",
        "_ = plt.ylabel('number of people')\n",
        "_ = plt.title('Distribution of heights in sample size 10')"
      ]
    },
    {
      "cell_type": "markdown",
      "metadata": {
        "id": "GRxxZUVPIDgO"
      },
      "source": [
        "The sample distribution doesn't resemble what we take the population distribution to be. What do we get for the mean?"
      ]
    },
    {
      "cell_type": "code",
      "execution_count": 20,
      "metadata": {
        "colab": {
          "base_uri": "https://localhost:8080/"
        },
        "id": "lUB79xTSIDgO",
        "outputId": "84b49f66-87ab-4653-ee88-a9d8a1d9998a"
      },
      "outputs": [
        {
          "output_type": "execute_result",
          "data": {
            "text/plain": [
              "np.float64(173.47911444163503)"
            ]
          },
          "metadata": {},
          "execution_count": 20
        }
      ],
      "source": [
        "np.mean(daily_sample1)"
      ]
    },
    {
      "cell_type": "markdown",
      "metadata": {
        "id": "3sK0jx4hIDgO"
      },
      "source": [
        "And if we went out and repeated this experiment?"
      ]
    },
    {
      "cell_type": "code",
      "execution_count": 21,
      "metadata": {
        "id": "Gigg6KuTIDgO"
      },
      "outputs": [],
      "source": [
        "daily_sample2 = townsfolk_sampler(10)"
      ]
    },
    {
      "cell_type": "code",
      "execution_count": 22,
      "metadata": {
        "colab": {
          "base_uri": "https://localhost:8080/"
        },
        "id": "TWS5AL03IDgP",
        "outputId": "5b200880-d37f-496e-f6d9-74114f0784be"
      },
      "outputs": [
        {
          "output_type": "execute_result",
          "data": {
            "text/plain": [
              "np.float64(173.7317666636263)"
            ]
          },
          "metadata": {},
          "execution_count": 22
        }
      ],
      "source": [
        "np.mean(daily_sample2)"
      ]
    },
    {
      "cell_type": "markdown",
      "metadata": {
        "id": "TC3naDZbIDgP"
      },
      "source": [
        "__Q8:__ Simulate performing this random trial every day for a year, calculating the mean of each daily sample of 10, and plot the resultant sampling distribution of the mean."
      ]
    },
    {
      "cell_type": "markdown",
      "metadata": {
        "id": "zL1_L9nsIDgP"
      },
      "source": [
        "__A:__"
      ]
    },
    {
      "cell_type": "code",
      "execution_count": 23,
      "metadata": {
        "id": "1Y8bQc-qIDgP"
      },
      "outputs": [],
      "source": [
        "daily_mean = []"
      ]
    },
    {
      "cell_type": "code",
      "execution_count": 24,
      "metadata": {
        "id": "K2_kpu7tIDgP"
      },
      "outputs": [],
      "source": [
        "seed(47)\n",
        "# take your samples here\n",
        "for _ in range(365):\n",
        "    daily_mean.append(np.mean(townsfolk_sampler(10)))"
      ]
    },
    {
      "cell_type": "code",
      "execution_count": 28,
      "metadata": {
        "colab": {
          "base_uri": "https://localhost:8080/"
        },
        "id": "i0yvdfW-IDgP",
        "outputId": "98b0cfea-964c-41d5-b394-f3f5aa7b7ac3"
      },
      "outputs": [
        {
          "output_type": "execute_result",
          "data": {
            "text/plain": [
              "[np.float64(173.47911444163503),\n",
              " np.float64(173.7317666636263),\n",
              " np.float64(172.54893867276104),\n",
              " np.float64(171.43257319553967),\n",
              " np.float64(172.7151613148319)]"
            ]
          },
          "metadata": {},
          "execution_count": 28
        }
      ],
      "source": [
        "daily_mean[:5]"
      ]
    },
    {
      "cell_type": "code",
      "source": [
        "_ = plt.hist(daily_mean, bins=10)\n",
        "_ = plt.xlabel('height (cm)')\n",
        "_ = plt.ylabel('number of people')\n",
        "_ = plt.title('Distribution of heights in sample size 10')"
      ],
      "metadata": {
        "colab": {
          "base_uri": "https://localhost:8080/",
          "height": 472
        },
        "id": "2P-531gtMb6U",
        "outputId": "c2c6fd56-6249-4860-840f-65973ca30d89"
      },
      "execution_count": 29,
      "outputs": [
        {
          "output_type": "display_data",
          "data": {
            "text/plain": [
              "<Figure size 640x480 with 1 Axes>"
            ],
            "image/png": "[encoded data removed]"
          },
          "metadata": {}
        }
      ]
    },
    {
      "cell_type": "markdown",
      "metadata": {
        "id": "c8Cg_hAcIDgP"
      },
      "source": [
        "The above is the distribution of the means of samples of size 10 taken from our population. The Central Limit Theorem tells us the expected mean of this distribution will be equal to the population mean, and standard deviation will be $\\sigma / \\sqrt n$, which, in this case, should be approximately 1.58."
      ]
    },
    {
      "cell_type": "markdown",
      "metadata": {
        "id": "dbdvSpZjIDgP"
      },
      "source": [
        "__Q9:__ Verify the above results from the CLT."
      ]
    },
    {
      "cell_type": "markdown",
      "metadata": {
        "id": "8dqu0_1SIDgP"
      },
      "source": [
        "__A:__"
      ]
    },
    {
      "cell_type": "code",
      "execution_count": 26,
      "metadata": {
        "colab": {
          "base_uri": "https://localhost:8080/"
        },
        "id": "xAFkPozEIDgP",
        "outputId": "db18db29-bbfa-4a79-a103-2ebc0e2c1b34"
      },
      "outputs": [
        {
          "output_type": "execute_result",
          "data": {
            "text/plain": [
              "np.float64(171.8660049358649)"
            ]
          },
          "metadata": {},
          "execution_count": 26
        }
      ],
      "source": [
        "np.mean(daily_mean)\n"
      ]
    },
    {
      "cell_type": "code",
      "execution_count": 27,
      "metadata": {
        "colab": {
          "base_uri": "https://localhost:8080/"
        },
        "id": "A9rbJ98QIDgP",
        "outputId": "25d3eb5d-0366-48eb-8799-012b3dbf0a7a"
      },
      "outputs": [
        {
          "output_type": "execute_result",
          "data": {
            "text/plain": [
              "np.float64(1.5756704135286475)"
            ]
          },
          "metadata": {},
          "execution_count": 27
        }
      ],
      "source": [
        "np.std(daily_mean)"
      ]
    },
    {
      "cell_type": "markdown",
      "metadata": {
        "id": "3Yzxv51hIDgP"
      },
      "source": [
        "Remember, in this instance, we knew our population parameters, that the average height really is 172 cm and the standard deviation is 5 cm, and we see some of our daily estimates of the population mean were as low as around 168 and some as high as 176."
      ]
    },
    {
      "cell_type": "markdown",
      "metadata": {
        "id": "OJwPRnuYIDgP"
      },
      "source": [
        "__Q10:__ Repeat the above year's worth of samples but for a sample size of 50 (perhaps you had a bigger budget for conducting surveys that year)! Would you expect your distribution of sample means to be wider (more variable) or narrower (more consistent)? Compare your resultant summary statistics to those predicted by the CLT."
      ]
    },
    {
      "cell_type": "markdown",
      "metadata": {
        "id": "MbS_tPMJIDgP"
      },
      "source": [
        "__A:__"
      ]
    },
    {
      "cell_type": "code",
      "execution_count": 30,
      "metadata": {
        "id": "9GMslmOPIDgP"
      },
      "outputs": [],
      "source": [
        "sample_size_50_mean = []\n",
        "\n",
        "seed(47)\n",
        "# calculate daily means from the larger sample size here\n",
        "for _ in range(365):\n",
        "  sample50 = townsfolk_sampler(50)\n",
        "  sample_size_50_mean.append(np.mean(sample50))\n"
      ]
    },
    {
      "cell_type": "code",
      "execution_count": 31,
      "metadata": {
        "colab": {
          "base_uri": "https://localhost:8080/",
          "height": 472
        },
        "id": "sDPE7QF3IDgP",
        "outputId": "7b54efe5-d5c4-4db3-ef32-875fc6f89347"
      },
      "outputs": [
        {
          "output_type": "display_data",
          "data": {
            "text/plain": [
              "<Figure size 640x480 with 1 Axes>"
            ],
            "image/png": "[encoded data removed]"
          },
          "metadata": {}
        }
      ],
      "source": [
        "#grpahic representation\n",
        "_ = plt.hist(sample_size_50_mean, bins=10)\n",
        "_ = plt.xlabel('height (cm)')\n",
        "_ = plt.ylabel('number of people')\n",
        "_ = plt.title('Distribution of heights in sample size 50')"
      ]
    },
    {
      "cell_type": "code",
      "source": [
        "print(np.mean(sample_size_50_mean))\n",
        "print(np.std(sample_size_50_mean))"
      ],
      "metadata": {
        "colab": {
          "base_uri": "https://localhost:8080/"
        },
        "id": "uFVHxmJmRDxM",
        "outputId": "e7ec2ff6-0f2b-4818-db70-e25c46b3e8d8"
      },
      "execution_count": 32,
      "outputs": [
        {
          "output_type": "stream",
          "name": "stdout",
          "text": [
            "171.94366080916114\n",
            "0.6736107539771146\n"
          ]
        }
      ]
    },
    {
      "cell_type": "markdown",
      "metadata": {
        "id": "TmQaFQ23IDgP"
      },
      "source": [
        "What we've seen so far, then, is that we can estimate population parameters from a sample from the population, and that samples have their own distributions. Furthermore, the larger the sample size, the narrower are those sampling distributions."
      ]
    },
    {
      "cell_type": "markdown",
      "metadata": {
        "id": "kpDpW1IQIDgP"
      },
      "source": [
        "### Normally testing time!"
      ]
    },
    {
      "cell_type": "markdown",
      "metadata": {
        "id": "c74po5SpIDgQ"
      },
      "source": [
        "All of the above is well and good. We've been sampling from a population we know is normally distributed, we've come to understand when to use $n$ and when to use $n-1$ in the denominator to calculate the spread of a distribution, and we've  seen the Central Limit Theorem in action for a sampling distribution. All seems very well behaved in Frequentist land. But, well, why should we really care?"
      ]
    },
    {
      "cell_type": "markdown",
      "metadata": {
        "id": "VSVn90gaIDgQ"
      },
      "source": [
        "Remember, we rarely (if ever) actually know our population parameters but we still have to estimate them somehow. If we want to make inferences to conclusions like \"this observation is unusual\" or \"my population mean has changed\" then we need to have some idea of what the underlying distribution is so we can calculate relevant probabilities. In frequentist inference, we use the formulae above to deduce these population parameters. Take a moment in the next part of this assignment to refresh your understanding of how these probabilities work."
      ]
    },
    {
      "cell_type": "markdown",
      "metadata": {
        "id": "r3azEWjoIDgQ"
      },
      "source": [
        "Recall some basic properties of the standard normal distribution, such as that about 68% of observations are within plus or minus 1 standard deviation of the mean. Check out the precise definition of a normal distribution on p. 394 of *AoS*.\n",
        "\n",
        "__Q11:__ Using this fact, calculate the probability of observing the value 1 or less in a single observation from the standard normal distribution. Hint: you may find it helpful to sketch the standard normal distribution (the familiar bell shape) and mark the number of standard deviations from the mean on the x-axis and shade the regions of the curve that contain certain percentages of the population."
      ]
    },
    {
      "cell_type": "markdown",
      "metadata": {
        "id": "JBHinLmYIDgQ"
      },
      "source": [
        "A: The probability of observing a value of 1 or less in a single observation from the standad normal distribution is approximately 0.84"
      ]
    },
    {
      "cell_type": "markdown",
      "metadata": {
        "id": "HTkNYbrzIDgQ"
      },
      "source": [
        "Calculating this probability involved calculating the area under the curve from the value of 1 and below. To put it in mathematical terms, we need to *integrate* the probability density function. We could just add together the known areas of chunks (from -Inf to 0 and then 0 to $+\\sigma$ in the example above). One way to do this is to look up tables (literally). Fortunately, scipy has this functionality built in with the cdf() function."
      ]
    },
    {
      "cell_type": "markdown",
      "metadata": {
        "id": "wXU6SjGBIDgQ"
      },
      "source": [
        "__Q12:__ Use the cdf() function to answer the question above again and verify you get the same answer."
      ]
    },
    {
      "cell_type": "markdown",
      "metadata": {
        "id": "cJPayeNYIDgQ"
      },
      "source": [
        "__A:__"
      ]
    },
    {
      "cell_type": "code",
      "execution_count": 33,
      "metadata": {
        "colab": {
          "base_uri": "https://localhost:8080/"
        },
        "id": "sYIDqinoIDgQ",
        "outputId": "c1bed01d-2577-46c4-883c-9c9e0626c396"
      },
      "outputs": [
        {
          "output_type": "execute_result",
          "data": {
            "text/plain": [
              "np.float64(0.8413447460685429)"
            ]
          },
          "metadata": {},
          "execution_count": 33
        }
      ],
      "source": [
        "norm.cdf(1)"
      ]
    },
    {
      "cell_type": "markdown",
      "metadata": {
        "id": "zKJe5OFJIDgQ"
      },
      "source": [
        "__Q13:__ Using our knowledge of the population parameters for our townsfolks' heights, what is the probability of selecting one person at random and their height being 177 cm or less? Calculate this using both of the approaches given above."
      ]
    },
    {
      "cell_type": "markdown",
      "metadata": {
        "id": "E7n94zgGIDgQ"
      },
      "source": [
        "__A:__"
      ]
    },
    {
      "cell_type": "code",
      "execution_count": 35,
      "metadata": {
        "colab": {
          "base_uri": "https://localhost:8080/"
        },
        "id": "yH-8pYuFIDgQ",
        "outputId": "20df492f-4c8b-4227-d98f-aad0cd7789bb"
      },
      "outputs": [
        {
          "output_type": "execute_result",
          "data": {
            "text/plain": [
              "np.float64(0.8413447460685429)"
            ]
          },
          "metadata": {},
          "execution_count": 35
        }
      ],
      "source": [
        "norm.cdf(177, loc=172, scale=5)"
      ]
    },
    {
      "cell_type": "markdown",
      "metadata": {
        "id": "5blz16T2IDgQ"
      },
      "source": [
        "__Q14:__ Turning this question around — suppose we randomly pick one person and measure their height and find they are 2.00 m tall. How surprised should we be at this result, given what we know about the population distribution? In other words, how likely would it be to obtain a value at least as extreme as this? Express this as a probability."
      ]
    },
    {
      "cell_type": "markdown",
      "metadata": {
        "id": "aLAuhsH8IDgR"
      },
      "source": [
        "__A:__"
      ]
    },
    {
      "cell_type": "code",
      "execution_count": 36,
      "metadata": {
        "colab": {
          "base_uri": "https://localhost:8080/"
        },
        "id": "dTWEAWNMIDgR",
        "outputId": "cfce449d-eddf-40b6-b2b2-abd32831be85"
      },
      "outputs": [
        {
          "output_type": "execute_result",
          "data": {
            "text/plain": [
              "np.float64(1.2365241000331715e-08)"
            ]
          },
          "metadata": {},
          "execution_count": 36
        }
      ],
      "source": [
        "norm.pdf(200, loc=172, scale=5)"
      ]
    },
    {
      "cell_type": "markdown",
      "metadata": {
        "id": "uHzAjHzwIDgR"
      },
      "source": [
        "What we've just done is calculate the ***p-value*** of the observation of someone 2.00m tall (review *p*-values if you need to on p. 399 of *AoS*). We could calculate this probability by virtue of knowing the population parameters. We were then able to use the known properties of the relevant normal distribution to calculate the probability of observing a value at least as extreme as our test value."
      ]
    },
    {
      "cell_type": "markdown",
      "metadata": {
        "id": "AESmORZxIDgR"
      },
      "source": [
        "We're about to come to a pinch, though. We've said a couple of times that we rarely, if ever, know the true population parameters; we have to estimate them from our sample and we cannot even begin to estimate the standard deviation from a single observation.\n",
        "\n",
        "This is very true and usually we have sample sizes larger than one. This means we can calculate the mean of the sample as our best estimate of the population mean and the standard deviation as our best estimate of the population standard deviation.\n",
        "\n",
        "In other words, we are now coming to deal with the sampling distributions we mentioned above as we are generally concerned with the properties of the sample means we obtain.\n",
        "\n",
        "Above, we highlighted one result from the CLT, whereby the sampling distribution (of the mean) becomes narrower and narrower with the square root of the sample size. We remind ourselves that another result from the CLT is that _even if the underlying population distribution is not normal, the sampling distribution will tend to become normal with sufficiently large sample size_. (**Check out p. 199 of AoS if you need to revise this**). This is the key driver for us 'requiring' a certain sample size, for example you may frequently see a minimum sample size of 30 stated in many places. In reality this is simply a rule of thumb; if the underlying distribution is approximately normal then your sampling distribution will already be pretty normal, but if the underlying distribution is heavily skewed then you'd want to increase your sample size."
      ]
    },
    {
      "cell_type": "markdown",
      "metadata": {
        "id": "BZyFCXMeIDgR"
      },
      "source": [
        "__Q15:__ Let's now start from the position of knowing nothing about the heights of people in our town.\n",
        "* Use the random seed of 47, to randomly sample the heights of 50 townsfolk\n",
        "* Estimate the population mean using np.mean\n",
        "* Estimate the population standard deviation using np.std (remember which denominator to use!)\n",
        "* Calculate the (95%) [margin of error](https://www.statisticshowto.datasciencecentral.com/probability-and-statistics/hypothesis-testing/margin-of-error/#WhatMofE) (use the exact critial z value to 2 decimal places - [look this up](https://www.statisticshowto.datasciencecentral.com/probability-and-statistics/find-critical-values/) or use norm.ppf()) Recall that the ***margin of error*** is mentioned on p. 189 of the *AoS* and discussed in depth in that chapter).\n",
        "* Calculate the 95% Confidence Interval of the mean (***confidence intervals*** are defined on p. 385 of *AoS*)\n",
        "* Does this interval include the true population mean?"
      ]
    },
    {
      "cell_type": "markdown",
      "metadata": {
        "id": "1vFv6zKSIDgR"
      },
      "source": [
        "__A:__"
      ]
    },
    {
      "cell_type": "code",
      "execution_count": 51,
      "metadata": {
        "id": "MaoWK5dpIDgR"
      },
      "outputs": [],
      "source": [
        "seed(47)\n",
        "# take your sample now\n",
        "sample_50_heights = townsfolk_sampler(50)"
      ]
    },
    {
      "cell_type": "code",
      "execution_count": 52,
      "metadata": {
        "colab": {
          "base_uri": "https://localhost:8080/"
        },
        "id": "cNbDcqgpIDgR",
        "outputId": "0f53b342-af1c-4615-81ba-b9299cd2975e"
      },
      "outputs": [
        {
          "output_type": "stream",
          "name": "stdout",
          "text": [
            "172.7815108576788\n"
          ]
        }
      ],
      "source": [
        "sample_mean_heights = np.mean(sample_50_heights)\n",
        "print(sample_mean_heights)"
      ]
    },
    {
      "cell_type": "code",
      "execution_count": 53,
      "metadata": {
        "colab": {
          "base_uri": "https://localhost:8080/"
        },
        "id": "DOwzaiMpIDgR",
        "outputId": "a859c702-f9b7-45e9-b931-c75ade254e9e"
      },
      "outputs": [
        {
          "output_type": "stream",
          "name": "stdout",
          "text": [
            "4.153258225264712\n"
          ]
        }
      ],
      "source": [
        "sample_std_heights = np.std(sample_50_heights)\n",
        "print(sample_std_heights)"
      ]
    },
    {
      "cell_type": "code",
      "execution_count": 54,
      "metadata": {
        "colab": {
          "base_uri": "https://localhost:8080/"
        },
        "id": "cTe5LPuPIDgR",
        "outputId": "6b60e0f5-d48e-4cf2-a160-a4b6cb67be50"
      },
      "outputs": [
        {
          "output_type": "stream",
          "name": "stdout",
          "text": [
            "1.151203291581224\n"
          ]
        }
      ],
      "source": [
        "z_critical = norm.ppf(0.975)\n",
        "sample_margin_of_error = z_critical * (sample_std_heights / np.sqrt(50))\n",
        "print(sample_margin_of_error)"
      ]
    },
    {
      "cell_type": "code",
      "execution_count": 55,
      "metadata": {
        "colab": {
          "base_uri": "https://localhost:8080/"
        },
        "id": "Ya_lm7VnIDgR",
        "outputId": "16648a0f-22fc-4004-8458-05a27005ddce"
      },
      "outputs": [
        {
          "output_type": "stream",
          "name": "stdout",
          "text": [
            "(np.float64(171.63030756609757), np.float64(173.93271414926002))\n"
          ]
        }
      ],
      "source": [
        "sample_confidence_interval = sample_mean_heights - sample_margin_of_error, sample_mean_heights + sample_margin_of_error\n",
        "print(sample_confidence_interval)"
      ]
    },
    {
      "cell_type": "markdown",
      "metadata": {
        "id": "SvbIP66lIDgR"
      },
      "source": [
        "__Q16:__ Above, we calculated the confidence interval using the critical z value. What is the problem with this? What requirement, or requirements, are we (strictly) failing?"
      ]
    },
    {
      "cell_type": "markdown",
      "metadata": {
        "id": "s9u-g7upIDgR"
      },
      "source": [
        "__A:__"
      ]
    },
    {
      "cell_type": "markdown",
      "metadata": {
        "id": "zBJGADrSIDgR"
      },
      "source": [
        "__Q17:__ Calculate the 95% confidence interval for the mean using the _t_ distribution. Is this wider or narrower than that based on the normal distribution above? If you're unsure, you may find this [resource](https://www.statisticshowto.datasciencecentral.com/probability-and-statistics/confidence-interval/) useful. For calculating the critical value, remember how you could calculate this for the normal distribution using norm.ppf()."
      ]
    },
    {
      "cell_type": "markdown",
      "metadata": {
        "id": "uv7lAbp4IDgR"
      },
      "source": [
        "__A:__"
      ]
    },
    {
      "cell_type": "code",
      "execution_count": 56,
      "metadata": {
        "id": "AHBITXczIDgR"
      },
      "outputs": [],
      "source": [
        "t_critical = t.ppf(0.975, 49)\n"
      ]
    },
    {
      "cell_type": "code",
      "execution_count": 58,
      "metadata": {
        "colab": {
          "base_uri": "https://localhost:8080/"
        },
        "id": "sSnG0ptOIDgR",
        "outputId": "105b8390-6c4e-4ea1-e39b-9cea423a68c2"
      },
      "outputs": [
        {
          "output_type": "stream",
          "name": "stdout",
          "text": [
            "1.180342927682007\n"
          ]
        }
      ],
      "source": [
        "sample_t_margin_of_error = t_critical * (sample_std_heights / np.sqrt(50))\n",
        "print(sample_t_margin_of_error)"
      ]
    },
    {
      "cell_type": "code",
      "execution_count": 59,
      "metadata": {
        "colab": {
          "base_uri": "https://localhost:8080/"
        },
        "id": "kHKeDgWOIDgS",
        "outputId": "4fbae391-bdeb-4c12-d472-47d6ddd13486"
      },
      "outputs": [
        {
          "output_type": "stream",
          "name": "stdout",
          "text": [
            "(np.float64(171.6011679299968), np.float64(173.9618537853608))\n"
          ]
        }
      ],
      "source": [
        "sample_t_confidence_interval = (sample_mean_heights - sample_t_margin_of_error,\n",
        "                             sample_mean_heights + sample_t_margin_of_error)\n",
        "print(sample_t_confidence_interval)"
      ]
    },
    {
      "cell_type": "markdown",
      "metadata": {
        "id": "stnKoI_3IDgS"
      },
      "source": [
        "This is slightly wider than the previous confidence interval. This reflects the greater uncertainty given that we are estimating population parameters from a sample."
      ]
    },
    {
      "cell_type": "markdown",
      "metadata": {
        "id": "NsnEv85WIDgS"
      },
      "source": [
        "## 4. Learning outcomes"
      ]
    },
    {
      "cell_type": "markdown",
      "metadata": {
        "id": "PsNBtIteIDgS"
      },
      "source": [
        "Having completed this project notebook, you now have hands-on experience:\n",
        "* sampling and calculating probabilities from a normal distribution\n",
        "* identifying the correct way to estimate the standard deviation of a population (the population parameter) from a sample\n",
        "* with sampling distribution and now know how the Central Limit Theorem applies\n",
        "* with how to calculate critical values and confidence intervals"
      ]
    }
  ],
  "metadata": {
    "kernelspec": {
      "display_name": "Python 3",
      "language": "python",
      "name": "python3"
    },
    "language_info": {
      "codemirror_mode": {
        "name": "ipython",
        "version": 3
      },
      "file_extension": ".py",
      "mimetype": "text/x-python",
      "name": "python",
      "nbconvert_exporter": "python",
      "pygments_lexer": "ipython3",
      "version": "3.7.3"
    },
    "colab": {
      "provenance": []
    }
  },
  "nbformat": 4,
  "nbformat_minor": 0
}